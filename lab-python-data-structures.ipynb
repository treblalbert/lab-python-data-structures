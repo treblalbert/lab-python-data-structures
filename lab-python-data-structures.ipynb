{
 "cells": [
  {
   "cell_type": "markdown",
   "metadata": {
    "tags": []
   },
   "source": [
    "# Lab | Data Structures "
   ]
  },
  {
   "cell_type": "markdown",
   "metadata": {},
   "source": [
    "## Exercise: Managing Customer Orders\n",
    "\n",
    "As part of a business venture, you are starting an online store that sells various products. To ensure smooth operations, you need to develop a program that manages customer orders and inventory.\n",
    "\n",
    "Follow the steps below to complete the exercise:\n",
    "\n",
    "1. Define a list called `products` that contains the following items: \"t-shirt\", \"mug\", \"hat\", \"book\", \"keychain\".\n",
    "\n",
    "2. Create an empty dictionary called `inventory`.\n",
    "\n",
    "3. Ask the user to input the quantity of each product available in the inventory. Use the product names from the `products` list as keys in the `inventory` dictionary and assign the respective quantities as values.\n",
    "\n",
    "4. Create an empty set called `customer_orders`.\n",
    "\n",
    "5. Ask the user to input the name of three products that a customer wants to order (from those in the products list, meaning three products out of \"t-shirt\", \"mug\", \"hat\", \"book\" or \"keychain\". Add each product name to the `customer_orders` set.\n",
    "\n",
    "6. Print the products in the `customer_orders` set.\n",
    "\n",
    "7. Calculate the following order statistics:\n",
    "   - Total Products Ordered: The total number of products in the `customer_orders` set.\n",
    "   - Percentage of Products Ordered: The percentage of products ordered compared to the total available products.\n",
    "   \n",
    "   Store these statistics in a tuple called `order_status`.\n",
    "\n",
    "8. Print the order statistics using the following format:\n",
    "   ```\n",
    "   Order Statistics:\n",
    "   Total Products Ordered: <total_products_ordered>\n",
    "   Percentage of Products Ordered: <percentage_ordered>% \n",
    "   ```\n",
    "\n",
    "9. Update the inventory by subtracting 1 from the quantity of each product. Modify the `inventory` dictionary accordingly.\n",
    "\n",
    "10. Print the updated inventory, displaying the quantity of each product on separate lines.\n",
    "\n",
    "Solve the exercise by implementing the steps using the Python concepts of lists, dictionaries, sets, and basic input/output operations. "
   ]
  },
  {
   "cell_type": "code",
   "execution_count": null,
   "metadata": {
    "vscode": {
     "languageId": "plaintext"
    }
   },
   "outputs": [],
   "source": [
    "B = \"\\033[1m\"\n",
    "R = \"\\033[0m\"\n",
    "\n",
    "print(f\"{B}WELCOME TO ALBERT'S SHOP{R}\")\n",
    "\n",
    "# Create a list of products\n",
    "products = [\"t-shirt\", \"mug\", \"hat\", \"book\", \"keychain\"]\n",
    "\n",
    "# Make products plural\n",
    "letterS = 's'\n",
    "newProduct = [product + letterS for product in products]\n",
    "\n",
    "# Create an empty inventory\n",
    "inventory = {}\n",
    "\n",
    "# Make a loop for each product to ask the quantity\n",
    "for product in newProduct:\n",
    "    quantity = int(input(f\"How many {product} do you want? \"))\n",
    "    inventory[product] = quantity\n",
    "\n",
    "# Print the current inventory\n",
    "print(\"\\nCurrent inventory:\", inventory)\n",
    "\n",
    "# Create an empty set for the customer\n",
    "customer_orders = set()\n",
    "\n",
    "# Loop three times, each time ask for a name of an existing product and store it in the customer orders\n",
    "for i in range(3):\n",
    "    print(i)\n",
    "    product_name = input(f\"Enter the name of product {i+1} \\nCurrent options: t-shirt, mug, hat, book, or keychain: \").strip().lower()\n",
    "    \n",
    "    if product_name in products:\n",
    "        customer_orders.add(product_name)\n",
    "    else:\n",
    "        print(\"Invalid product name.\")\n",
    "        \n",
    "        i -= 1\n",
    "\n",
    "# Print the customer's orders\n",
    "print(\"\\nThese are the customer's orders:\", customer_orders)\n",
    "\n",
    "# Print the number of orders\n",
    "customer_orders_elements = len(customer_orders)\n",
    "print(f\"The set has {customer_orders_elements} elements.\\n\")\n",
    "\n",
    "#Calculate order statistics\n",
    "total_products = len(products)\n",
    "total_products_ordered = customer_orders_elements\n",
    "percentage_ordered = (total_products_ordered / total_products) * 100\n",
    "order_status = (total_products_ordered, percentage_ordered)\n",
    "\n",
    "#Print the order statistics\n",
    "print(\"Order Statistics:\")\n",
    "print(f\"Total Products Ordered: {order_status[0]}\")\n",
    "print(f\"Percentage of Products Ordered: {order_status[1]:.2f}%\\n\")\n",
    "\n",
    "#Update the inventory\n",
    "for product in customer_orders:\n",
    "    plural_product = product + 's'  # Match the plural form used in the inventory\n",
    "    if plural_product in inventory:\n",
    "        inventory[plural_product] -= 1  # Decrease the quantity by 1\n",
    "\n",
    "#Print the updated inventory\n",
    "print(\"Updated Inventory:\")\n",
    "for product, quantity in inventory.items():\n",
    "    print(f\"{product}: {quantity}\")\n"
   ]
  }
 ],
 "metadata": {
  "kernelspec": {
   "display_name": "Python 3 (ipykernel)",
   "language": "python",
   "name": "python3"
  },
  "language_info": {
   "codemirror_mode": {
    "name": "ipython",
    "version": 3
   },
   "file_extension": ".py",
   "mimetype": "text/x-python",
   "name": "python",
   "nbconvert_exporter": "python",
   "pygments_lexer": "ipython3",
   "version": "3.9.13"
  }
 },
 "nbformat": 4,
 "nbformat_minor": 4
}
